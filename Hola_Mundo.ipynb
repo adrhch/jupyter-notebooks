{
  "metadata": {
    "language_info": {
      "codemirror_mode": {
        "name": "python",
        "version": 3
      },
      "file_extension": ".py",
      "mimetype": "text/x-python",
      "name": "python",
      "nbconvert_exporter": "python",
      "pygments_lexer": "ipython3",
      "version": "3.8"
    },
    "kernelspec": {
      "name": "python",
      "display_name": "Python (Pyodide)",
      "language": "python"
    }
  },
  "nbformat_minor": 4,
  "nbformat": 4,
  "cells": [
    {
      "cell_type": "markdown",
      "source": "# Mi Primer Programa",
      "metadata": {}
    },
    {
      "cell_type": "markdown",
      "source": "¡ Hola !",
      "metadata": {}
    },
    {
      "cell_type": "markdown",
      "source": "El programa «Hola Mundo» o «Hello World» es considerado el más simple en casi todos los lenguajes de programación. Se utiliza generalmente para mostrar en un ejemplo sencillo la sintaxis de un lenguaje de programación y para introducir a los programadores en dicho lenguaje.",
      "metadata": {}
    },
    {
      "cell_type": "markdown",
      "source": "A continuación crearemos un programa \"Hola Mundo\" en el lenguaje de programación Python, pero antes de empezar una breve introducción de como funciona Jupyter Notebook.",
      "metadata": {}
    },
    {
      "cell_type": "markdown",
      "source": "1. Para escribir da click en cualquier celda o \"Cell\" puedes agregar, borrar o copiar cuantas celdas quieras.con los botones del menu principal o los botones que aparecen dentro de cada celda.",
      "metadata": {}
    },
    {
      "cell_type": "markdown",
      "source": "2. En la parte de arriba puedes ver que puedes escribir por \"default\" en código  puedes cambiar esto en el dropdown donde dice \"Code v\"",
      "metadata": {}
    },
    {
      "cell_type": "markdown",
      "source": "3. Para jeceutar tu codigo selecciona una celda con códiogo que quieras ejecutar y presion shift+enter",
      "metadata": {}
    },
    {
      "cell_type": "code",
      "source": "# Ahora si empezemos , como puedes ver esta linea comienza con un \"#\" estos son comentarios y no se interpretaran cuando presiones shift+enter\n",
      "metadata": {
        "trusted": true
      },
      "execution_count": null,
      "outputs": []
    },
    {
      "cell_type": "markdown",
      "source": "A continuación borra la seccion \"tu_nombre\" y escribe tu propio nombre, una vez que lo hayas hecho presiona shift+enter",
      "metadata": {}
    },
    {
      "cell_type": "code",
      "source": "#Mi Primer programa\nprint('Hola Mundo, Soy tu_nombre')",
      "metadata": {
        "trusted": true
      },
      "execution_count": null,
      "outputs": []
    },
    {
      "cell_type": "markdown",
      "source": "¡ Felicidades este es tu primer programa ! puedes seguir programando en las celdas de abajo.",
      "metadata": {}
    },
    {
      "cell_type": "markdown",
      "source": "Si tienes alguna duda o comentario [escribeme](https://ahidalgoch.wordpress.com/contacto/)",
      "metadata": {}
    },
    {
      "cell_type": "markdown",
      "source": "Visita [https://ahidalgoch.wordpress.com/](https://ahidalgoch.wordpress.com/) para mas articulos simialres.",
      "metadata": {}
    },
    {
      "cell_type": "code",
      "source": "",
      "metadata": {},
      "execution_count": null,
      "outputs": []
    },
    {
      "cell_type": "code",
      "source": "",
      "metadata": {},
      "execution_count": null,
      "outputs": []
    }
  ]
}